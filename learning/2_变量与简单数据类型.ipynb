{
 "cells": [
  {
   "cell_type": "code",
   "execution_count": 7,
   "id": "4b4f086b-765b-454e-8e4d-ac9ab92864f7",
   "metadata": {},
   "outputs": [
    {
     "name": "stdout",
     "output_type": "stream",
     "text": [
      "hello world\n"
     ]
    }
   ],
   "source": [
    "print(\"hello world\")"
   ]
  },
  {
   "cell_type": "markdown",
   "id": "9aad0ee9-0211-423e-9db7-6332793802c3",
   "metadata": {},
   "source": [
    "### 2.1使用变量\n",
    "创建变量来使用值"
   ]
  },
  {
   "cell_type": "code",
   "execution_count": 8,
   "id": "8caf54c5-8bb7-4838-9ec1-69225690c0c4",
   "metadata": {},
   "outputs": [
    {
     "name": "stdout",
     "output_type": "stream",
     "text": [
      "Hello Python world\n"
     ]
    }
   ],
   "source": [
    "message=\"Hello Python world\"\n",
    "print(message)"
   ]
  },
  {
   "cell_type": "markdown",
   "id": "ca283b38-83f8-497a-a4f9-bcb6edc828a0",
   "metadata": {},
   "source": [
    "### 2.2变量的命名与使用\n",
    "#### 规则\n",
    "1. 只包含数字，字母和下划线  \n",
    "2. 注意不能包含空格  \n",
    "3. 不要将关键字和函数名作为变量名  \n",
    "\n",
    "#### 指南\n",
    "1. 变量名字应简短且有描述性  \n",
    "2. 慎用小写字母l与大写字母O  \n"
   ]
  },
  {
   "cell_type": "markdown",
   "id": "b33a7988-d33a-4d09-bd10-d1d3c152179f",
   "metadata": {},
   "source": [
    "### 2.3字符串\n",
    "用引号括起的部分都是字符串\n",
    "\n",
    ">一部分常用函数\n",
    ">这里用name代字符串\n",
    "\n",
    "1. 大小写  \n",
    "- name.upper()全大写\n",
    "- name.lower()全小写\n",
    "- name.title()首字母大写\n",
    "\n",
    "2. 合并\n",
    "Python用+来合并字符串\n",
    "\n",
    "3. 制表符与换行\n",
    "- \\t制表\n",
    "- \\n换行\n",
    "\n",
    "4. 删除\n",
    "- rstrip()删除末尾指定字符\n",
    "- lstrip()删除头部指定字符\n",
    "- strip()同时从头部和尾部删除  \n",
    "tips:这里括号内如果不指定字符就会默认删除空格"
   ]
  },
  {
   "cell_type": "code",
   "execution_count": 15,
   "id": "e800e323-75aa-4e46-876d-5ca4e447470f",
   "metadata": {},
   "outputs": [
    {
     "name": "stdout",
     "output_type": "stream",
     "text": [
      "1 learN Python\n",
      "2 Learn Python\n",
      "3 LEARN PYTHON\n",
      "4 learn python\n",
      "learN Python\n",
      "Learn Python Today\n",
      "Learn Python Today\n",
      "\tso easyhhhh  \n",
      "Learn Python Today\n",
      "\tso easy\n",
      "Learn Python Today\n",
      "\tso easyhhhh\n"
     ]
    }
   ],
   "source": [
    "name=\"learN Python\"\n",
    "print(\"1 \"+name)\n",
    "print(\"2 \"+name.title())\n",
    "print(\"3 \"+name.upper())\n",
    "print(\"4 \"+name.lower()) \n",
    "print(name)\n",
    "#tips：这三个函数不会改变字符串自己\n",
    "\n",
    "name=name+\" today\"\n",
    "name=name.title()\n",
    "print(name)\n",
    "\n",
    "name=name+\"\\n\\tso easyhhhh  \"\n",
    "print(name)\n",
    "\n",
    "name=name.rstrip()\n",
    "print(name.strip(\"h\"))\n",
    "print(name)\n",
    "#同样的这个函数不改变字符串本身"
   ]
  },
  {
   "cell_type": "markdown",
   "id": "64c82e4c-7426-4151-b4b3-1e2cfec1fd72",
   "metadata": {},
   "source": [
    "### 2.4数字\n",
    "1. 整数  \n",
    "   整数允许+(加)-(减)*(乘)/(除)%(取余)  \n",
    "   并且允许通过括号改变运算次序\n",
    "2. 浮点数  \n",
    "   带小数点的数字称为浮点数  \n",
    "   使用浮点数时通常Python可以按照你的想法来处理  \n",
    "   但是注意小数位数可能是不确定的\n",
    "3. str()  \n",
    "   str()可以将你输入的数字转变为字符串  \n",
    "   还记得吗？字符串与字符串可以合并  \n",
    "   但是直接合并字符与数字会出错  "
   ]
  },
  {
   "cell_type": "code",
   "execution_count": 23,
   "id": "58b3eac7-d6b1-41ec-a869-04c7bb031c9c",
   "metadata": {
    "jp-MarkdownHeadingCollapsed": true
   },
   "outputs": [
    {
     "name": "stdout",
     "output_type": "stream",
     "text": [
      "14.0\n",
      "2.0\n",
      "1\n",
      "0.4\n",
      "0.30000000000000004\n",
      "中华人民共和国于1949年成立\n"
     ]
    }
   ],
   "source": [
    "print(2+3*5-6/2)\n",
    "print(4/2)\n",
    "print(5%2)\n",
    "\n",
    "print(0.2+0.2)\n",
    "print(0.2+0.1)\n",
    "\n",
    "print(\"中华人民共和国于\"+str(1949)+\"年成立\")\n",
    "#print(\"美国于\"+1776+\"年成立\")#这段语法是错误的"
   ]
  },
  {
   "cell_type": "markdown",
   "id": "c967056c-f1a8-48a7-92a6-e04aa5e6268a",
   "metadata": {},
   "source": [
    "### 2.5注释\n",
    "在Python中用#标识注释  \n",
    "在#后面的部分不会被执行  \n",
    "合理的注释与说明是一个编程人员应该具有的美德"
   ]
  }
 ],
 "metadata": {
  "kernelspec": {
   "display_name": "Python 3 (ipykernel)",
   "language": "python",
   "name": "python3"
  },
  "language_info": {
   "codemirror_mode": {
    "name": "ipython",
    "version": 3
   },
   "file_extension": ".py",
   "mimetype": "text/x-python",
   "name": "python",
   "nbconvert_exporter": "python",
   "pygments_lexer": "ipython3",
   "version": "3.13.3"
  }
 },
 "nbformat": 4,
 "nbformat_minor": 5
}
