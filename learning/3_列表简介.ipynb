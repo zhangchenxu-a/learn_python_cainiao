{
 "cells": [
  {
   "cell_type": "code",
   "execution_count": 24,
   "id": "3be1516b-610c-49e5-896b-96b8fc6ad597",
   "metadata": {},
   "outputs": [
    {
     "name": "stdout",
     "output_type": "stream",
     "text": [
      "Hello Python world\n",
      "We can use list\n"
     ]
    }
   ],
   "source": [
    "print(\"Hello Python world\")\n",
    "print(\"We can use list\")"
   ]
  },
  {
   "cell_type": "markdown",
   "id": "81c3a70c-9365-4e9c-ba55-669ffb88581b",
   "metadata": {},
   "source": [
    "# 列表简介\n",
    "一系列按特定顺序排列的元素，用[]来表示，用逗号来分割\n",
    ">这里的元素可以没有任何关系\n",
    "### 3.1访问\n",
    "- 通过names[]来访问，[]内为元素索引数字\n",
    "  >names只是示例\n",
    "- 索引从0开始，例如要访问第四个元素，索引就为3\n",
    "- 其余同其他变量\n",
    "### 3.2增删改查\n",
    "- 修改：指定列表与索引，在指定新值即可\n",
    "- 增加：  \n",
    "  1.append(插入元素)  \n",
    "  2.insert(插入索引，插入元素)\n",
    "- 删除：  \n",
    "  1.del names[0]删除第一个元素\n",
    "  2.pop(索引)弹出索引值处的元素，默认为最后一位\n",
    "  3.remove(元素)删除第一个（从前向后）与给出元素值相同的元素"
   ]
  },
  {
   "cell_type": "code",
   "execution_count": 29,
   "id": "5083ffa0-6280-4cbe-bf85-e51af8f29f4b",
   "metadata": {},
   "outputs": [
    {
     "name": "stdout",
     "output_type": "stream",
     "text": [
      "the student is Mike\n",
      "the writer is cold\n",
      "['Mike', 'Amy', 'John', 'cold']\n",
      "['Mike', 'Kite', 'John', 'cold']\n",
      "['Mike', 'Kite', 'John', 'ice', 'cold', 'Amy']\n",
      "['Kite', 'John', 'ice', 'cold', 'Amy']\n",
      "['Kite', 'ice', 'cold', 'Amy']\n",
      "['Kite', 'ice', 'cold']\n"
     ]
    }
   ],
   "source": [
    "names=[\"Mike\",\"Amy\",\"John\",\"cold\"]\n",
    "print(\"the student is \"+names[0])\n",
    "message=\"the writer is \"+names[3]\n",
    "print(message)\n",
    "\n",
    "print(names)\n",
    "names[1]=\"Kite\"\n",
    "print(names)\n",
    "names.append(\"Amy\")\n",
    "names.insert(3,\"ice\")\n",
    "print(names)\n",
    "\n",
    "del names[0]\n",
    "print(names)\n",
    "names.remove(\"John\")\n",
    "print(names)\n",
    "names.pop()\n",
    "print(names)"
   ]
  },
  {
   "cell_type": "markdown",
   "id": "262da068-7f73-4f5c-9190-004b95a3f8c2",
   "metadata": {},
   "source": [
    "### 3.3排序\n",
    "- sort()永久排序（从小到大）\n",
    "- sorted(列表名)临时排序\n",
    "- reverse()永久反序\n",
    "- len(列表名字)获取列表长度\n",
    "\n",
    "tips:当访问较为靠后的元素时，程序易出现索引错误，这时可用-1作为索引值来访问最后一个元素"
   ]
  },
  {
   "cell_type": "code",
   "execution_count": 35,
   "id": "f985dd0c-1df4-4901-b890-882300d916be",
   "metadata": {},
   "outputs": [
    {
     "name": "stdout",
     "output_type": "stream",
     "text": [
      "[4, 5, 20, 43, 85]\n",
      "[20, 4, 5, 85, 43]\n",
      "None\n",
      "[4, 5, 20, 43, 85]\n",
      "None\n",
      "[85, 43, 20, 5, 4]\n",
      "5\n"
     ]
    }
   ],
   "source": [
    "ages=[20,4,5,85,43]\n",
    "print(sorted(ages))#返回排序列表\n",
    "print(ages)\n",
    "print(ages.sort())#返回none\n",
    "print(ages)\n",
    "print(ages.reverse())#返回none\n",
    "print(ages)\n",
    "print(len(ages))"
   ]
  }
 ],
 "metadata": {
  "kernelspec": {
   "display_name": "Python 3 (ipykernel)",
   "language": "python",
   "name": "python3"
  },
  "language_info": {
   "codemirror_mode": {
    "name": "ipython",
    "version": 3
   },
   "file_extension": ".py",
   "mimetype": "text/x-python",
   "name": "python",
   "nbconvert_exporter": "python",
   "pygments_lexer": "ipython3",
   "version": "3.13.3"
  }
 },
 "nbformat": 4,
 "nbformat_minor": 5
}
