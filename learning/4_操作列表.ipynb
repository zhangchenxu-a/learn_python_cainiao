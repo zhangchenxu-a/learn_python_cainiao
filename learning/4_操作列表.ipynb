{
 "cells": [
  {
   "cell_type": "code",
   "execution_count": null,
   "id": "a43a7306-acc0-4558-bfad-f8323bdb91ca",
   "metadata": {},
   "outputs": [],
   "source": [
    "print(\"Hello world\")\n",
    "print(\"We can finish something interesting\")"
   ]
  },
  {
   "cell_type": "markdown",
   "id": "ce1aac4d-d841-4071-8ee3-2beeadbeab98",
   "metadata": {},
   "source": [
    "# 操作列表\n",
    "### 4.1遍历\n",
    "- for循环可以帮助我们完成遍历的操作  \n",
    "  例如在之前的示例中，我们可以用for name in names:来完成  \n",
    "  而在for循环之后处于同一缩进的语句都会被归入该循环中  \n",
    "### 4.2缩进\n",
    "与C++不同（我只学过C++），在C++中使用{}来明确给定范围，而在Python中我们使用缩进来表示，尽管不会出现忘记加“}”的情况，但是可能会出现缩进错误  \n",
    "在这里提醒读者：不要忘记缩进必要的代码行，避免意外缩进，以及循环不要遗漏冒号\n",
    "### 4.3数值列表\n",
    "range()是一个强大的工具，但它本身不能生成列表，生成的是一个可迭代对象  \n",
    "for value in range(1,5):就是遍历从1到5但是不包括5的所有数据  \n",
    "而用list()可以将range转变为列表:list(range(1,5))  \n",
    "  \n",
    "还有部分函数用于简单计算：\n",
    "- sum()求和\n",
    "- min()求最小值\n",
    "- max()求最大值\n",
    "\n",
    "我们还可以使用列表解析来生成更复杂的列表：\n",
    "square=[value**2 for value in range(1,11)]\n",
    "\n",
    ">Tips:学过C++的可以将range(a,b,c)理解为：\n",
    ">for(int i=a;i<b;i+=c)"
   ]
  },
  {
   "cell_type": "code",
   "execution_count": 4,
   "id": "5c4ea29c-1f74-4ab6-8577-132697dfec25",
   "metadata": {},
   "outputs": [
    {
     "name": "stdout",
     "output_type": "stream",
     "text": [
      "John is a student.\n",
      "He/She will graduate from university.\n",
      "\n",
      "Mike is a student.\n",
      "He/She will graduate from university.\n",
      "\n",
      "Kite is a student.\n",
      "He/She will graduate from university.\n",
      "\n",
      "Amy is a student.\n",
      "He/She will graduate from university.\n",
      "\n",
      "Lisa is a student.\n",
      "He/She will graduate from university.\n",
      "\n",
      "Thank you.\n",
      "[0, 1, 2, 3, 4, 5, 6, 7, 8, 9, 10]\n",
      "55\n",
      "[0, 4, 10, 18, 28, 40, 54, 70, 88, 108, 130]\n"
     ]
    }
   ],
   "source": [
    "names=[\"John\",\"Mike\",\"Kite\",\"Amy\",\"Lisa\"]\n",
    "for name in names:\n",
    "    print(name.title()+\" is a student.\")\n",
    "    print(\"He/She will graduate from university.\\n\")\n",
    "print(\"Thank you.\")\n",
    "\n",
    "numbers=list(range(0,11,1))\n",
    "print(numbers)\n",
    "print(sum(numbers))\n",
    "function_1s=[value**2+3*value for value in range(0,11,1)]\n",
    "print(function_1s)"
   ]
  },
  {
   "cell_type": "markdown",
   "id": "6cf663a0-3ded-44d8-9c4c-d945509955bf",
   "metadata": {},
   "source": [
    "### 4.4切片使用\n",
    "对于一个列表来说，我们可以使用他们的一部分  \n",
    "例如：对于names这一个列表，我们可以使用names[a:b]  \n",
    "它表示取其中的第a个元素到第b-1个元素  \n",
    "在使用上与列表相同，当a省略时默认为从0开始,b省略时默认为最后一个的下一位  \n",
    "\n",
    "对于列表来说，切片使用可以带来一个新的作用  \n",
    "当我们用已有的列表来创建新列表时直接赋值是不妥的,这会让两个列表相互影响（新变量指向的是原先的列表而不是新列表）  \n",
    "所以我们应该使用切片来进行赋值  \n",
    ">说实话C++写多了看到这个语法还是有点不适应\n"
   ]
  },
  {
   "cell_type": "code",
   "execution_count": 11,
   "id": "367ed590-3616-476c-b7ff-53a7c227cf11",
   "metadata": {},
   "outputs": [
    {
     "name": "stdout",
     "output_type": "stream",
     "text": [
      "['John', 'Mike', 'Kite']\n",
      "['John', 'Mike', 'Kite', 'Amy', 'Lisa']\n",
      "['cold', 'Mike', 'Kite', 'Amy', 'Lisa']\n",
      "['John', 'Mike', 'Kite', 'Amy', 'Lisa']\n"
     ]
    }
   ],
   "source": [
    "names=[\"John\",\"Mike\",\"Kite\",\"Amy\",\"Lisa\"]\n",
    "print(names[:3])\n",
    "print(names[:])\n",
    "\n",
    "names_1=names\n",
    "names_2=names[:]\n",
    "names[0]=\"cold\"\n",
    "print(names_1)\n",
    "print(names_2)"
   ]
  },
  {
   "cell_type": "markdown",
   "id": "f1e36cff-2283-4d88-9151-173d1234b14d",
   "metadata": {},
   "source": [
    "### 4.5元组\n",
    "元组使用()而不是[]，这使它有别于列表  \n",
    "最大的区别在于元组不能修改单个值，但是我们仍然可以修改整个元组  \n",
    ">这玩意和常量指针好像啊\n"
   ]
  },
  {
   "cell_type": "markdown",
   "id": "055acfe1-f3bd-40c7-baca-a269fcd77b9f",
   "metadata": {},
   "source": [
    "### 4.6代码格式\n",
    "这里我们不去探讨那种格式比较好  \n",
    "但是请确保自己的代码可读  \n",
    "至少对于自己来说比较易读  \n",
    "如果没有什么头绪就读一读PEP8  \n",
    "或者输入import this，这会有帮助的"
   ]
  },
  {
   "cell_type": "code",
   "execution_count": null,
   "id": "0c34599c-eb13-43e4-99ab-5b228efbf891",
   "metadata": {},
   "outputs": [],
   "source": []
  }
 ],
 "metadata": {
  "kernelspec": {
   "name": "python3"
  },
  "language_info": {
   "codemirror_mode": {
    "name": "ipython",
    "version": 3
   },
   "file_extension": ".py",
   "mimetype": "text/x-python",
   "name": "python",
   "nbconvert_exporter": "python",
   "pygments_lexer": "ipython3",
   "version": "3.12.7"
  }
 },
 "nbformat": 4,
 "nbformat_minor": 5
}
