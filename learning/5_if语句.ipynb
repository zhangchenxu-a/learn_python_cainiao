{
 "cells": [
  {
   "cell_type": "code",
   "execution_count": 2,
   "id": "c028830e-ae48-414f-9b0e-3601bf95577b",
   "metadata": {},
   "outputs": [
    {
     "name": "stdout",
     "output_type": "stream",
     "text": [
      "Hello world\n"
     ]
    }
   ],
   "source": [
    "print(\"Hello world\")"
   ]
  },
  {
   "cell_type": "markdown",
   "id": "76cd7899-6c5b-4908-88b9-78ed355466d6",
   "metadata": {},
   "source": [
    "# if语句\n",
    "使用if语句可以让我们有能力判断是否需要执行\n",
    "\n",
    "- ==  != 等于与不等于\n",
    "- < <=小于 小于等于\n",
    "- \\> >=大于 大于等于\n",
    "同数学上的比大小，正确就会返回True，否则返回False\n",
    "  \n",
    "检查元素是否在列表中，可以用if user_name in names:\n",
    "反之使用if user_name not in names:\n",
    "  \n",
    "在这里，if语句的使用如下：  \n",
    "if 条件语句：\n",
    "    执行语句\n",
    "\n",
    "在判断多个条件时可以用：\n",
    "- and逻辑与\n",
    "- or逻辑或\n",
    "- not逻辑否"
   ]
  },
  {
   "cell_type": "code",
   "execution_count": 3,
   "id": "d7286287-3de5-470e-820c-334953be8b6a",
   "metadata": {},
   "outputs": [
    {
     "name": "stdout",
     "output_type": "stream",
     "text": [
      "x等于y\n",
      "x属于numbers\n",
      "x不等于y的说法错误\n",
      "easy\n"
     ]
    }
   ],
   "source": [
    "x=5\n",
    "y=x\n",
    "if x == y:\n",
    "    print(\"x等于y\")\n",
    "numbers=[0,1,5,7,9]\n",
    "if x in numbers:\n",
    "    print(\"x属于numbers\")\n",
    "if not x != y:\n",
    "    print(\"x不等于y的说法错误\")\n",
    "if x == y and y in numbers:\n",
    "    print(\"easy\")"
   ]
  },
  {
   "cell_type": "markdown",
   "id": "e7a8cfc1-8ec5-4906-8633-d8a36bc37876",
   "metadata": {},
   "source": [
    "当我们需要测试多个条件时，我们有许多种方法：\n",
    "1. if 判断条件1：代码1  \n",
    "   if 判断条件2：代码2  \n",
    "   if 判断条件3：代码3  \n",
    "   if 判断条件4：代码4\n",
    "   这种方法将会对每个需要判断都执行一遍\n",
    "2. if 判断条件1：代码1  \n",
    "   elif 判断条件2：代码2  \n",
    "   elif 判断条件3：代码3  \n",
    "   elif 判断条件4：代码4\n",
    "   该方法将会使符合某个条件的语句不执行下面的判断\n",
    "合理的使用它们  \n",
    "  \n",
    "else可以与if相联系，不符合之前if与elif语句的将会执行else的代码  \n",
    "  \n",
    "空列表，空字符串与数字零在这里使用时等同于False"
   ]
  }
 ],
 "metadata": {
  "kernelspec": {
   "display_name": "Python [conda env:base] *",
   "language": "python",
   "name": "conda-base-py"
  },
  "language_info": {
   "codemirror_mode": {
    "name": "ipython",
    "version": 3
   },
   "file_extension": ".py",
   "mimetype": "text/x-python",
   "name": "python",
   "nbconvert_exporter": "python",
   "pygments_lexer": "ipython3",
   "version": "3.12.7"
  }
 },
 "nbformat": 4,
 "nbformat_minor": 5
}
